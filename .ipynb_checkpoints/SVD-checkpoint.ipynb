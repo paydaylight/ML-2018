{
 "cells": [
  {
   "cell_type": "code",
   "execution_count": 3,
   "metadata": {},
   "outputs": [],
   "source": [
    "import numpy as np\n",
    "from numpy import dot\n",
    "import math\n",
    "from scipy import linalg"
   ]
  },
  {
   "cell_type": "code",
   "execution_count": 6,
   "metadata": {},
   "outputs": [
    {
     "name": "stdout",
     "output_type": "stream",
     "text": [
      "original:\n",
      " [[0.89902284 0.34938139 0.02611211 0.71887202 0.38872516]\n",
      " [0.39328925 0.34623019 0.99967444 0.02585244 0.14660333]\n",
      " [0.23578612 0.2621597  0.3371816  0.67750726 0.98261436]\n",
      " [0.02242133 0.1923839  0.17868275 0.32508488 0.43337403]]\n",
      "reconstructed:\n",
      " [[0.89902284 0.34938139 0.02611211 0.71887202 0.38872516]\n",
      " [0.39328925 0.34623019 0.99967444 0.02585244 0.14660333]\n",
      " [0.23578612 0.2621597  0.3371816  0.67750726 0.98261436]\n",
      " [0.02242133 0.1923839  0.17868275 0.32508488 0.43337403]]\n"
     ]
    }
   ],
   "source": [
    "A = np.random.rand(4, 5)\n",
    "AT = A.transpose()\n",
    "W = A.dot(AT)\n",
    "S, U = np.linalg.eig(W)\n",
    "S = np.diag(np.sqrt(S))\n",
    "V = AT.dot(U).dot(np.linalg.inv(S))\n",
    "USVT = dot(U, S).dot(V.transpose())\n",
    "print(\"original:\\n\", A)\n",
    "print(\"reconstructed:\\n\", USVT)\n"
   ]
  },
  {
   "cell_type": "code",
   "execution_count": null,
   "metadata": {},
   "outputs": [],
   "source": []
  }
 ],
 "metadata": {
  "kernelspec": {
   "display_name": "Python 3",
   "language": "python",
   "name": "python3"
  },
  "language_info": {
   "codemirror_mode": {
    "name": "ipython",
    "version": 3
   },
   "file_extension": ".py",
   "mimetype": "text/x-python",
   "name": "python",
   "nbconvert_exporter": "python",
   "pygments_lexer": "ipython3",
   "version": "3.6.5"
  }
 },
 "nbformat": 4,
 "nbformat_minor": 2
}
