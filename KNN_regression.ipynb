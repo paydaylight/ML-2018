{
 "cells": [
  {
   "cell_type": "code",
   "execution_count": 1,
   "metadata": {},
   "outputs": [],
   "source": [
    "import numpy as np\n",
    "from sklearn.datasets import load_iris\n",
    "from random import random\n",
    "import math\n",
    "import operator"
   ]
  },
  {
   "cell_type": "code",
   "execution_count": 2,
   "metadata": {},
   "outputs": [
    {
     "data": {
      "text/plain": [
       "(150, 4)"
      ]
     },
     "execution_count": 2,
     "metadata": {},
     "output_type": "execute_result"
    }
   ],
   "source": [
    "df = load_iris()\n",
    "df.data.shape"
   ]
  },
  {
   "cell_type": "code",
   "execution_count": 3,
   "metadata": {},
   "outputs": [],
   "source": [
    "def divide_data(x):\n",
    "    for i in df.data:\n",
    "        if random() < x:\n",
    "            train_data.append(i)\n",
    "        else:\n",
    "            test_data.append(i)"
   ]
  },
  {
   "cell_type": "code",
   "execution_count": 4,
   "metadata": {},
   "outputs": [],
   "source": [
    "def distance(x, y):#euclidean distance\n",
    "    dist = 0\n",
    "    for i in range(x.shape[0]):\n",
    "        dist += math.pow(x[i] - y[i], 2)\n",
    "    return math.sqrt(dist)"
   ]
  },
  {
   "cell_type": "code",
   "execution_count": 5,
   "metadata": {},
   "outputs": [],
   "source": [
    "def mean_sum(arr): #mean sum to calculate value after we select k nearest neighbors\n",
    "    sum_ = 0\n",
    "    for i in arr:\n",
    "           sum_+=i[feature_val]\n",
    "    return sum_/len(arr)"
   ]
  },
  {
   "cell_type": "code",
   "execution_count": 6,
   "metadata": {},
   "outputs": [],
   "source": [
    "def predict(arr, k):\n",
    "    dist_arr = []\n",
    "    mean_val = mean_sum(train_data)\n",
    "    arr[feature_val] = mean_val\n",
    "    #before calculating the distance we change the feature we calculate to a mean sum of the same feature in training set\n",
    "    for i in train_data:\n",
    "        dist_arr.append((i, distance(i, arr))) #dictionary to temporarily store object and distance to it\n",
    "    dist_arr.sort(key=operator.itemgetter(1))#sort by distance\n",
    "    nn = [] #array of nearest neighbors\n",
    "    for j in range(k):\n",
    "        nn.append(dist_arr[j][0]) \n",
    "    arr[feature_val] = mean_sum(nn) #rewrite calculated value \n",
    "    print(arr)"
   ]
  },
  {
   "cell_type": "code",
   "execution_count": null,
   "metadata": {},
   "outputs": [],
   "source": []
  },
  {
   "cell_type": "code",
   "execution_count": 7,
   "metadata": {
    "scrolled": true
   },
   "outputs": [
    {
     "name": "stdout",
     "output_type": "stream",
     "text": [
      "[4.4 2.9 1.4 0.2]\n",
      "[5.18571429 2.9        1.4        0.2       ]\n",
      "----------\n",
      "[4.8 3.  1.4 0.1]\n",
      "[5.18571429 3.         1.4        0.1       ]\n",
      "----------\n",
      "[5.7 3.8 1.7 0.3]\n",
      "[5.45714286 3.8        1.7        0.3       ]\n",
      "----------\n",
      "[5.4 3.4 1.5 0.4]\n",
      "[5.32857143 3.4        1.5        0.4       ]\n",
      "----------\n",
      "[5.5 3.5 1.3 0.2]\n",
      "[5.38571429 3.5        1.3        0.2       ]\n",
      "----------\n",
      "[4.4 3.2 1.3 0.2]\n",
      "[5.24285714 3.2        1.3        0.2       ]\n",
      "----------\n",
      "[5.7 2.8 4.5 1.3]\n",
      "[5.88571429 2.8        4.5        1.3       ]\n",
      "----------\n",
      "[6.  2.2 4.  1. ]\n",
      "[5.62857143 2.2        4.         1.        ]\n",
      "----------\n",
      "[6.1 2.8 4.  1.3]\n",
      "[5.7 2.8 4.  1.3]\n",
      "----------\n",
      "[6.8 2.8 4.8 1.4]\n",
      "[5.98571429 2.8        4.8        1.4       ]\n",
      "----------\n",
      "[5.5 2.4 3.7 1. ]\n",
      "[5.62857143 2.4        3.7        1.        ]\n",
      "----------\n",
      "[5.8 2.7 3.9 1.2]\n",
      "[5.67142857 2.7        3.9        1.2       ]\n",
      "----------\n",
      "[6.  3.4 4.5 1.6]\n",
      "[5.97142857 3.4        4.5        1.6       ]\n",
      "----------\n",
      "[6.5 3.  5.8 2.2]\n",
      "[6.24285714 3.         5.8        2.2       ]\n",
      "----------\n",
      "[7.3 2.9 6.3 1.8]\n",
      "[6.34285714 2.9        6.3        1.8       ]\n",
      "----------\n",
      "[7.7 3.  6.1 2.3]\n",
      "[6.32857143 3.         6.1        2.3       ]\n",
      "----------\n",
      "[5.8 2.7 5.1 1.9]\n",
      "[5.87142857 2.7        5.1        1.9       ]\n",
      "----------\n",
      "[6.5 3.  5.2 2. ]\n",
      "[5.87142857 3.         5.2        2.        ]\n",
      "----------\n"
     ]
    }
   ],
   "source": [
    "train_data = []\n",
    "test_data = []\n",
    "feature_val = 0\n",
    "divide_data(0.90)\n",
    "for i in test_data:\n",
    "    print(i)\n",
    "    predict(i, 7)\n",
    "    print(\"----------\")"
   ]
  },
  {
   "cell_type": "code",
   "execution_count": null,
   "metadata": {},
   "outputs": [],
   "source": []
  }
 ],
 "metadata": {
  "kernelspec": {
   "display_name": "Python 3",
   "language": "python",
   "name": "python3"
  },
  "language_info": {
   "codemirror_mode": {
    "name": "ipython",
    "version": 3
   },
   "file_extension": ".py",
   "mimetype": "text/x-python",
   "name": "python",
   "nbconvert_exporter": "python",
   "pygments_lexer": "ipython3",
   "version": "3.6.5"
  }
 },
 "nbformat": 4,
 "nbformat_minor": 2
}
