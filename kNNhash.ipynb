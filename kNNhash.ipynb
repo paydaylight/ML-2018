{
 "cells": [
  {
   "cell_type": "markdown",
   "metadata": {},
   "source": [
    "# kNN Hash Example"
   ]
  },
  {
   "cell_type": "code",
   "execution_count": 183,
   "metadata": {},
   "outputs": [],
   "source": [
    "import numpy as np\n",
    "import pandas as pd\n",
    "from sklearn.datasets import load_iris\n",
    "from functools import partial\n",
    "from random import random\n",
    "from sklearn.preprocessing import MinMaxScaler\n",
    "from collections import defaultdict\n",
    "from collections import Counter\n",
    "import math"
   ]
  },
  {
   "cell_type": "markdown",
   "metadata": {},
   "source": [
    "## Iris dataset"
   ]
  },
  {
   "cell_type": "code",
   "execution_count": 184,
   "metadata": {},
   "outputs": [
    {
     "data": {
      "text/plain": [
       "(150, 4)"
      ]
     },
     "execution_count": 184,
     "metadata": {},
     "output_type": "execute_result"
    }
   ],
   "source": [
    "df = load_iris()\n",
    "df.data.shape"
   ]
  },
  {
   "cell_type": "code",
   "execution_count": 185,
   "metadata": {},
   "outputs": [],
   "source": [
    "def f_hash(w,r,b,x):\n",
    "    return int((np.dot(w,x)+b)/r)"
   ]
  },
  {
   "cell_type": "markdown",
   "metadata": {},
   "source": [
    "* https://docs.python.org/2/library/functools.html Here you can read about \"partial\"\n",
    "* http://scikit-learn.org/stable/modules/generated/sklearn.preprocessing.MinMaxScaler.html About mapping to [0,1]"
   ]
  },
  {
   "cell_type": "code",
   "execution_count": 186,
   "metadata": {},
   "outputs": [],
   "source": [
    "def euclidDist(x, y): #function to calculate Euclidean distance\n",
    "    dist = 0\n",
    "    for i in range(x.shape[0]):\n",
    "        dist += math.pow(x[i] - y[0][i], 2)\n",
    "    return math.sqrt(dist)"
   ]
  },
  {
   "cell_type": "code",
   "execution_count": 190,
   "metadata": {},
   "outputs": [],
   "source": [
    "class KNNHash(object):\n",
    "    def __init__(self,m,L,nn):\n",
    "        self.m = m\n",
    "        self.L = L\n",
    "        self.nn = nn\n",
    "\n",
    "    def fit(self,X,y):\n",
    "        self.t_hh = [] #hash table\n",
    "        for j in range(self.L):\n",
    "            f_hh = [] #compositional hash function\n",
    "            for i in range(self.m):\n",
    "                w = np.random.rand(1,X[0].shape[0]) #  weights of a hash function\n",
    "                f_hh.append(partial(f_hash,w = w,r=random(),b=random())) # list of initialized hash function\n",
    "            self.t_hh.append(\n",
    "                (defaultdict(list),f_hh)\n",
    "            )\n",
    "        for n in range(X.shape[0]): \n",
    "            for j in range(self.L):\n",
    "                ind = 0\n",
    "                for i in range(self.m):\n",
    "                    ind = ind + self.t_hh[j][1][i](x=X[n]) #calculation of index in hash table, simply sum of all hash func\n",
    "                self.t_hh[j][0][ind].append((X[n],y[n])) #saving sample into corresponding index\n",
    "    \n",
    "    def predict(self,u):\n",
    "        for j in range(self.L):\n",
    "            inds = []\n",
    "            distArr = [] #array of distance\n",
    "            clss = [] #array of classes\n",
    "            for i in range(self.m):\n",
    "                inds.append(self.t_hh[j][1][i](x=u))         \n",
    "            cntr = Counter([outp for inpt,outp in self.t_hh[j][0][sum(inds)]])\n",
    "            print(cntr)\n",
    "            for q in self.t_hh[j][0][sum(inds)]:\n",
    "                distArr.append(euclidDist(u, q)) #appending distArr with distances\n",
    "                clss.append(q[1]) #appending array of classes\n",
    "            minInd = distArr.index(min(distArr)) #taking class of minimal distance\n",
    "            print(\"min distance: \" +  str(min(distArr)))\n",
    "            print(\"class: \" + str(clss[minInd]))\n",
    "        print(\"\\n\")\n",
    "            \n",
    "            #Here you must put your code, extend the method with distance function and calculation with unknown sample \"u\"\n",
    "            #Develop the rest part of kNN predict method that was discussed at the lecture\n",
    "            "
   ]
  },
  {
   "cell_type": "code",
   "execution_count": 191,
   "metadata": {},
   "outputs": [],
   "source": [
    "scaler = MinMaxScaler()\n",
    "scaler.fit(df.data)\n",
    "x = scaler.transform(df.data)\n",
    "y = df.target\n"
   ]
  },
  {
   "cell_type": "code",
   "execution_count": 192,
   "metadata": {},
   "outputs": [
    {
     "name": "stdout",
     "output_type": "stream",
     "text": [
      "test1y: 0\n",
      "Counter({0: 11, 1: 3})\n",
      "min distance: 0.04498205067597233\n",
      "class: 0\n",
      "Counter({0: 2})\n",
      "min distance: 0.052867663285673355\n",
      "class: 0\n",
      "Counter({0: 8, 1: 2})\n",
      "min distance: 0.04166666666666666\n",
      "class: 0\n",
      "Counter({0: 18, 1: 2})\n",
      "min distance: 0.03254041656427031\n",
      "class: 0\n",
      "\n",
      "\n",
      "-------------\n",
      "test2y: 1\n",
      "Counter({2: 10, 1: 9})\n",
      "min distance: 0.05007710104811091\n",
      "class: 1\n",
      "Counter({1: 9, 2: 1})\n",
      "min distance: 0.06798027147519138\n",
      "class: 1\n",
      "Counter({2: 5, 1: 1})\n",
      "min distance: 0.1029623988718487\n",
      "class: 1\n",
      "Counter({1: 14, 2: 13})\n",
      "min distance: 0.05007710104811091\n",
      "class: 1\n",
      "\n",
      "\n",
      "-------------\n",
      "test3y: 2\n",
      "Counter({2: 10, 1: 9})\n",
      "min distance: 0.05794021820301701\n",
      "class: 2\n",
      "Counter({1: 4, 2: 1})\n",
      "min distance: 0.06508083312853999\n",
      "class: 2\n",
      "Counter({2: 5, 1: 1})\n",
      "min distance: 0.05794021820301701\n",
      "class: 2\n",
      "Counter({1: 14, 2: 13})\n",
      "min distance: 0.05794021820301701\n",
      "class: 2\n",
      "\n",
      "\n"
     ]
    }
   ],
   "source": [
    "knnhash = KNNHash(4,4,4)\n",
    "test1x = x[0]\n",
    "test2x = x[75]\n",
    "test3x = x[149]\n",
    "\n",
    "test1y = y[0]\n",
    "test2y = y[75]\n",
    "test3y = y[149]\n",
    "x = np.delete(x,[0,75,149],axis=0)\n",
    "y = np.delete(y,[0,75,149],axis=0)\n",
    "\n",
    "knnhash.fit(x,y)\n",
    "print(\"test1y: \" + str(test1y))\n",
    "knnhash.predict(test1x)\n",
    "print(\"-------------\")\n",
    "print(\"test2y: \" + str(test2y))\n",
    "knnhash.predict(test2x)\n",
    "print(\"-------------\")\n",
    "print(\"test3y: \" + str(test3y))\n",
    "knnhash.predict(test3x)"
   ]
  },
  {
   "cell_type": "markdown",
   "metadata": {},
   "source": [
    "* Each string above corresponds to the particular hash table. And index in counter maps to the class. For example Counter({0: 13, 1: 1}) means that there are 13 samples close to \"u\" with \"0\" class labels and 1 sample with \"1\" class label."
   ]
  },
  {
   "cell_type": "code",
   "execution_count": null,
   "metadata": {
    "collapsed": true
   },
   "outputs": [],
   "source": []
  }
 ],
 "metadata": {
  "anaconda-cloud": {},
  "kernelspec": {
   "display_name": "Python 3",
   "language": "python",
   "name": "python3"
  },
  "language_info": {
   "codemirror_mode": {
    "name": "ipython",
    "version": 3
   },
   "file_extension": ".py",
   "mimetype": "text/x-python",
   "name": "python",
   "nbconvert_exporter": "python",
   "pygments_lexer": "ipython3",
   "version": "3.6.5"
  }
 },
 "nbformat": 4,
 "nbformat_minor": 2
}
